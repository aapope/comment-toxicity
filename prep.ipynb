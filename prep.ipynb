{
 "cells": [
  {
   "cell_type": "code",
   "execution_count": 1,
   "metadata": {},
   "outputs": [],
   "source": [
    "import joblib\n",
    "import os\n",
    "\n",
    "import pandas as pd\n",
    "import numpy as np\n",
    "from sklearn.model_selection import train_test_split\n",
    "\n",
    "from src.utils import encode_text"
   ]
  },
  {
   "cell_type": "markdown",
   "metadata": {},
   "source": [
    "## Load Data, Encode Text"
   ]
  },
  {
   "cell_type": "code",
   "execution_count": 2,
   "metadata": {},
   "outputs": [
    {
     "data": {
      "text/html": [
       "<div>\n",
       "<style scoped>\n",
       "    .dataframe tbody tr th:only-of-type {\n",
       "        vertical-align: middle;\n",
       "    }\n",
       "\n",
       "    .dataframe tbody tr th {\n",
       "        vertical-align: top;\n",
       "    }\n",
       "\n",
       "    .dataframe thead th {\n",
       "        text-align: right;\n",
       "    }\n",
       "</style>\n",
       "<table border=\"1\" class=\"dataframe\">\n",
       "  <thead>\n",
       "    <tr style=\"text-align: right;\">\n",
       "      <th></th>\n",
       "      <th>id</th>\n",
       "      <th>comment_text</th>\n",
       "      <th>toxic</th>\n",
       "      <th>severe_toxic</th>\n",
       "      <th>obscene</th>\n",
       "      <th>threat</th>\n",
       "      <th>insult</th>\n",
       "      <th>identity_hate</th>\n",
       "      <th>all</th>\n",
       "      <th>pct_punctuation</th>\n",
       "    </tr>\n",
       "  </thead>\n",
       "  <tbody>\n",
       "    <tr>\n",
       "      <th>0</th>\n",
       "      <td>0000997932d777bf</td>\n",
       "      <td>Explanation\\nWhy the edits made under my usern...</td>\n",
       "      <td>0</td>\n",
       "      <td>0</td>\n",
       "      <td>0</td>\n",
       "      <td>0</td>\n",
       "      <td>0</td>\n",
       "      <td>0</td>\n",
       "      <td>0</td>\n",
       "      <td>0.041667</td>\n",
       "    </tr>\n",
       "    <tr>\n",
       "      <th>1</th>\n",
       "      <td>000103f0d9cfb60f</td>\n",
       "      <td>D'aww! He matches this background colour I'm s...</td>\n",
       "      <td>0</td>\n",
       "      <td>0</td>\n",
       "      <td>0</td>\n",
       "      <td>0</td>\n",
       "      <td>0</td>\n",
       "      <td>0</td>\n",
       "      <td>0</td>\n",
       "      <td>0.107143</td>\n",
       "    </tr>\n",
       "    <tr>\n",
       "      <th>2</th>\n",
       "      <td>000113f07ec002fd</td>\n",
       "      <td>Hey man, I'm really not trying to edit war. It...</td>\n",
       "      <td>0</td>\n",
       "      <td>0</td>\n",
       "      <td>0</td>\n",
       "      <td>0</td>\n",
       "      <td>0</td>\n",
       "      <td>0</td>\n",
       "      <td>0</td>\n",
       "      <td>0.025751</td>\n",
       "    </tr>\n",
       "    <tr>\n",
       "      <th>3</th>\n",
       "      <td>0001b41b1c6bb37e</td>\n",
       "      <td>\"\\nMore\\nI can't make any real suggestions on ...</td>\n",
       "      <td>0</td>\n",
       "      <td>0</td>\n",
       "      <td>0</td>\n",
       "      <td>0</td>\n",
       "      <td>0</td>\n",
       "      <td>0</td>\n",
       "      <td>0</td>\n",
       "      <td>0.040193</td>\n",
       "    </tr>\n",
       "    <tr>\n",
       "      <th>4</th>\n",
       "      <td>0001d958c54c6e35</td>\n",
       "      <td>You, sir, are my hero. Any chance you remember...</td>\n",
       "      <td>0</td>\n",
       "      <td>0</td>\n",
       "      <td>0</td>\n",
       "      <td>0</td>\n",
       "      <td>0</td>\n",
       "      <td>0</td>\n",
       "      <td>0</td>\n",
       "      <td>0.074627</td>\n",
       "    </tr>\n",
       "  </tbody>\n",
       "</table>\n",
       "</div>"
      ],
      "text/plain": [
       "                 id                                       comment_text  toxic  \\\n",
       "0  0000997932d777bf  Explanation\\nWhy the edits made under my usern...      0   \n",
       "1  000103f0d9cfb60f  D'aww! He matches this background colour I'm s...      0   \n",
       "2  000113f07ec002fd  Hey man, I'm really not trying to edit war. It...      0   \n",
       "3  0001b41b1c6bb37e  \"\\nMore\\nI can't make any real suggestions on ...      0   \n",
       "4  0001d958c54c6e35  You, sir, are my hero. Any chance you remember...      0   \n",
       "\n",
       "   severe_toxic  obscene  threat  insult  identity_hate  all  pct_punctuation  \n",
       "0             0        0       0       0              0    0         0.041667  \n",
       "1             0        0       0       0              0    0         0.107143  \n",
       "2             0        0       0       0              0    0         0.025751  \n",
       "3             0        0       0       0              0    0         0.040193  \n",
       "4             0        0       0       0              0    0         0.074627  "
      ]
     },
     "execution_count": 2,
     "metadata": {},
     "output_type": "execute_result"
    }
   ],
   "source": [
    "full_df = pd.read_csv('data/raw_combined.csv')\n",
    "full_df.head()"
   ]
  },
  {
   "cell_type": "code",
   "execution_count": 3,
   "metadata": {},
   "outputs": [],
   "source": [
    "vocab, encoded_text = encode_text(\n",
    "    full_df, \n",
    "    use_cache=False,\n",
    "    max_length=500,\n",
    "    vocab_length=10000\n",
    ")"
   ]
  },
  {
   "cell_type": "code",
   "execution_count": 4,
   "metadata": {},
   "outputs": [
    {
     "data": {
      "text/plain": [
       "(223549, 501)"
      ]
     },
     "execution_count": 4,
     "metadata": {},
     "output_type": "execute_result"
    }
   ],
   "source": [
    "# should be (n comments, max_length + 1)\n",
    "encoded_text.shape"
   ]
  },
  {
   "cell_type": "code",
   "execution_count": 5,
   "metadata": {},
   "outputs": [
    {
     "data": {
      "text/plain": [
       "array([  500, 10000,  9999, 10001,  9999, 10001, 10001, 10001, 10001,\n",
       "       10000, 10001, 10001, 10001, 10000, 10001, 10000, 10001, 10001,\n",
       "       10000, 10001, 10000, 10001, 10001, 10001, 10001, 10001, 10001,\n",
       "       10001,  9998, 10000, 10000, 10001, 10001, 10001, 10001,  9999,\n",
       "       10001, 10000,  9997, 10001,  9999,  9999,  9998, 10001, 10000,\n",
       "       10000, 10001,  9999, 10001,  9999,  9997, 10001,  9995,  9994,\n",
       "       10001,  9988, 10001, 10000, 10001,  9995, 10001,  9990,  9999,\n",
       "        9999,  9983,  9987, 10000, 10000,  9995,  9994,  9998, 10000,\n",
       "        9990,  9996,  9992,  9997,  9999, 10000,  9991,  9989,  9996,\n",
       "        9998,  9994,  9997, 10000,  9998,  9995,  9998, 10001,  9990,\n",
       "       10000,  9994,  9993,  9997,  9990,  9999,  9988, 10001,  9999,\n",
       "        9990,  9994,  9999,  9997,  9998,  9999,  9996,  9974,  9990,\n",
       "        9988,  9992,  9977, 10001, 10000,  9997,  9992,  9997,  9984,\n",
       "        9988,  9987,  9993,  9992,  9998, 10000,  9989,  9986,  9994,\n",
       "        9991,  9992,  9997,  9998,  9993,  9993,  9985,  9994,  9975,\n",
       "        9993,  9983,  9995,  9996,  9974,  9993,  9991,  9986,  9993,\n",
       "        9998,  9998,  9981,  9972, 10000,  9984,  9973,  9993,  9989,\n",
       "        9979,  9973,  9990,  9987,  9989,  9997,  9983,  9998,  9977,\n",
       "        9969,  9996,  9989,  9936,  9999,  9988,  9990,  9989,  9983,\n",
       "        9994,  9976,  9962,  9995,  9992,  9998, 10000,  9996,  9973,\n",
       "        9990,  9926,  9924,  9993,  9991,  9991,  9906,  9971,  9980,\n",
       "        9998,  9996,  9982,  9980,  9981,  9985,  9985,  9996,  9997,\n",
       "        9999,  9982,  9961,  9968,  9991,  9923,  9996,  9990,  9965,\n",
       "        9973,  9974,  9954,  9984,  9971,  9924,  9981,  9920,  9980,\n",
       "        9972,  9995,  9998,  9972,  9942,  9984,  9981,  9955,  9980,\n",
       "        9969,  9952,  9994, 10000,  9957,  9793,  9998,  9999,  9994,\n",
       "        9940,  9948,  9968,  9950,  9993,  9961,  9985,  9963,  9972,\n",
       "        9921,  9878,  9951,  9937,  9924,  9984,  9940,  9997,  9889,\n",
       "        9973,  9900,  9976,  9918,  9988,  9960,  9963,  9931,  9980,\n",
       "        9951,  9973,  9912,  9983,  9907,  9966,  9990,  9960,  9999,\n",
       "        9952,  9959,  9990,  9907,  9963,  9884,  9960,  9986,  9980,\n",
       "        9994,  9996,  9961,  9997,  9992,  9960,  9923,  9960,  9984,\n",
       "        9960,  9991,  9960,  9998,  9960,  9896,  9960,  9916,  9939,\n",
       "        9965,  9806,  9959,  9923,  9880,  9940,  9895,  9991,  9992,\n",
       "        9992,  9949,  9983,  9984,  9986,  9960,  9960,  9934,  9992,\n",
       "        9991,  9926,  9945,  9994,  9998,  9960,  9984,  9984,  9984,\n",
       "        9806,  9994,  9960,  9880,  9952,  9975,  9984,  9992,  9987,\n",
       "        9968,  9950,  9966,  9975,  9952,  9997,  9879,  9880,  9998,\n",
       "        9890,  9921,  9914,  9963,  9969,  9987,  9918,  9831,  9998,\n",
       "        9939,  9987,  9930,  9999,  9867,  9993,  9981,  9950,  9834,\n",
       "        9973,  9798,  9993,  9911,  9805,  9913,  9690,  9950,  9932,\n",
       "        9905,  9910,  9949,  9940,  9972,  9939,  9877,  9932,  9973,\n",
       "        9984,  9895,  9851,  9997,  9940,  9661,  9923,  9975,  9937,\n",
       "        9942,  9931,  9984,  9895,  9912,  9940,  9776,  9907,  9923,\n",
       "        9950,  9961,  9705,  9689,  9790,  9991,  9847,  9819,  9805,\n",
       "        9831,  9790,  9975,  9846,  9930,  9834,  9807,  9819,  9976,\n",
       "        9733,  9679,  9969,  9984,  9918,  9913,  9819,  9621,  9920,\n",
       "        9975,  9923,  9923,  9952,  9900,  9457,  9992,  9923,  9918,\n",
       "        9729,  9805,  9576,  9920,  9689,  9923,  9524,  9920,  9814,\n",
       "        9814,  9985,  9807,  9680,  9805,  9923,  9923,  9806,  9995,\n",
       "        9297,  9498,  9923,  9984,  9900,  9522,  9805,  9812,  9620,\n",
       "        9807,  9299,  9984,  9883,  9586,  9786,  9952,  9568,  9641,\n",
       "        9750,  9299,  9939,  9573,  9410,  9913,  9805,  9807,  9579,\n",
       "        9815,  9620,  8732,  9269,  9992,  9514,  9572,  9517,  9805,\n",
       "        9345,  9587,  9299,  9939,  9428,  9807,  9394,  9058,  9609,\n",
       "        9805,  9568,  9620,  9705,  9620,  9206])"
      ]
     },
     "execution_count": 5,
     "metadata": {},
     "output_type": "execute_result"
    }
   ],
   "source": [
    "encoded_text.max(axis=0)"
   ]
  },
  {
   "cell_type": "code",
   "execution_count": 6,
   "metadata": {},
   "outputs": [],
   "source": [
    "label_columns = ['toxic', 'severe_toxic', 'obscene', 'threat',\n",
    "                 'insult', 'identity_hate']\n",
    "labels = full_df[label_columns].values\n",
    "\n",
    "full_data = np.concatenate([labels, encoded_text], axis=1)"
   ]
  },
  {
   "cell_type": "markdown",
   "metadata": {},
   "source": [
    "## Train / Test Split"
   ]
  },
  {
   "cell_type": "code",
   "execution_count": 7,
   "metadata": {},
   "outputs": [
    {
     "name": "stdout",
     "output_type": "stream",
     "text": [
      "(190016, 507) (33533, 507)\n"
     ]
    }
   ],
   "source": [
    "train, test = train_test_split(\n",
    "    full_data, \n",
    "    test_size=0.15, \n",
    "    random_state=1\n",
    ")\n",
    "print(train.shape, test.shape)"
   ]
  },
  {
   "cell_type": "markdown",
   "metadata": {},
   "source": [
    "## Save to Files"
   ]
  },
  {
   "cell_type": "code",
   "execution_count": 8,
   "metadata": {},
   "outputs": [],
   "source": [
    "data_dir = 'processed/'\n",
    "with open(os.path.join(data_dir, 'train.joblib'), 'wb') as f:\n",
    "    joblib.dump(train, f)\n",
    "with open(os.path.join(data_dir, 'test.joblib'), 'wb') as f:\n",
    "    joblib.dump(test, f)"
   ]
  },
  {
   "cell_type": "code",
   "execution_count": 9,
   "metadata": {},
   "outputs": [
    {
     "data": {
      "text/plain": [
       "(190016, 501)"
      ]
     },
     "execution_count": 9,
     "metadata": {},
     "output_type": "execute_result"
    }
   ],
   "source": [
    "train[:, 6:].shape"
   ]
  }
 ],
 "metadata": {
  "kernelspec": {
   "display_name": "Python 3",
   "language": "python",
   "name": "python3"
  },
  "language_info": {
   "codemirror_mode": {
    "name": "ipython",
    "version": 3
   },
   "file_extension": ".py",
   "mimetype": "text/x-python",
   "name": "python",
   "nbconvert_exporter": "python",
   "pygments_lexer": "ipython3",
   "version": "3.6.9"
  }
 },
 "nbformat": 4,
 "nbformat_minor": 2
}
