{
 "cells": [
  {
   "cell_type": "code",
   "execution_count": null,
   "metadata": {},
   "outputs": [],
   "source": [
    "import joblib\n",
    "\n",
    "from sklearn.metrics import (\n",
    "    confusion_matrix, ConfusionMatrixDisplay,\n",
    "    roc_curve, auc, RocCurveDisplay\n",
    ")\n",
    "\n",
    "%matplotlib inline"
   ]
  },
  {
   "cell_type": "code",
   "execution_count": null,
   "metadata": {},
   "outputs": [],
   "source": [
    "test_data = joblib.load('processed/test/data.joblib')\n",
    "y_true = test_data[:, :6]\n",
    "\n",
    "y_pred = joblib.load('processed/y_pred.joblib')\n",
    "y_pred_class = y_pred.round()\n",
    "\n",
    "y_true.shape, y_pred.shape"
   ]
  },
  {
   "cell_type": "code",
   "execution_count": null,
   "metadata": {},
   "outputs": [],
   "source": [
    "# save plots\n",
    "asset_dir = 'results/final/'\n",
    "os.makedirs(asset_dir, exist_ok=True)\n",
    "\n",
    "roc_auc_results = []\n",
    "for i in range(6):\n",
    "    filename = os.path.join(asset_dir, f'confusion_matrix_{i}.png')\n",
    "    ConfusionMatrixDisplay(confusion_matrix(y_true[:, i], y_pred_class[:, i])).plot().figure_.savefig(filename)\n",
    "    \n",
    "    filename = os.path.join(asset_dir, f'roc_curve_{i}.png')\n",
    "    fpr, tpr, thresholds = roc_curve(y_true[:, i], y_pred[:, i])\n",
    "    roc_auc = auc(fpr, tpr)\n",
    "    roc_auc_results.append(roc_auc)\n",
    "    RocCurveDisplay(fpr=fpr, tpr=tpr, roc_auc=roc_auc).plot().figure_.savefig(filename)"
   ]
  },
  {
   "cell_type": "code",
   "execution_count": null,
   "metadata": {},
   "outputs": [],
   "source": [
    "# print metrics\n",
    "metrics = defaultdict(list)\n",
    "for label in range(6):\n",
    "    test_y_class_label = y_pred_class[:, label]\n",
    "    predict_y_class = y_pred[:, label]\n",
    "    predict_y_class_label = predict_y_class.round()\n",
    "\n",
    "    metrics['accuracy'].append(accuracy_score(val_y_class, predict_y_class_label))\n",
    "    metrics['precision'].append(precision_score(val_y_class, predict_y_class_label))\n",
    "    metrics['recall'].append(recall_score(val_y_class, predict_y_class_label))\n",
    "    metrics['roc_auc'].append(roc_auc_score(val_y_class, predict_y_class))\n",
    "\n",
    "avg_metrics = {}\n",
    "for name, results in metrics.items():\n",
    "    print(f'{name} at class level: {results}')\n",
    "    avg_metrics[name] = sum(results) / len(results)\n",
    "\n",
    "\n",
    "results = [f'{name}: {result};' for name, result in avg_metrics.items()]\n",
    "print(' '.join(results))"
   ]
  }
 ],
 "metadata": {
  "kernelspec": {
   "display_name": "Python 3",
   "language": "python",
   "name": "python3"
  },
  "language_info": {
   "codemirror_mode": {
    "name": "ipython",
    "version": 3
   },
   "file_extension": ".py",
   "mimetype": "text/x-python",
   "name": "python",
   "nbconvert_exporter": "python",
   "pygments_lexer": "ipython3",
   "version": "3.6.9"
  }
 },
 "nbformat": 4,
 "nbformat_minor": 2
}
